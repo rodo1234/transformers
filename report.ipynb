{
 "cells": [
  {
   "cell_type": "code",
   "execution_count": 1,
   "metadata": {},
   "outputs": [
    {
     "name": "stderr",
     "output_type": "stream",
     "text": [
      "2024-05-05 20:56:44.502525: I tensorflow/core/util/port.cc:113] oneDNN custom operations are on. You may see slightly different numerical results due to floating-point round-off errors from different computation orders. To turn them off, set the environment variable `TF_ENABLE_ONEDNN_OPTS=0`.\n",
      "2024-05-05 20:56:44.502779: I external/local_tsl/tsl/cuda/cudart_stub.cc:32] Could not find cuda drivers on your machine, GPU will not be used.\n",
      "2024-05-05 20:56:44.504970: I external/local_tsl/tsl/cuda/cudart_stub.cc:32] Could not find cuda drivers on your machine, GPU will not be used.\n",
      "2024-05-05 20:56:44.529791: I tensorflow/core/platform/cpu_feature_guard.cc:210] This TensorFlow binary is optimized to use available CPU instructions in performance-critical operations.\n",
      "To enable the following instructions: AVX2 AVX_VNNI FMA, in other operations, rebuild TensorFlow with the appropriate compiler flags.\n",
      "2024-05-05 20:56:45.048422: W tensorflow/compiler/tf2tensorrt/utils/py_utils.cc:38] TF-TRT Warning: Could not find TensorRT\n"
     ]
    }
   ],
   "source": [
    "from transf.ds_clean import clean_ds \n",
    "import pandas as pd\n",
    "from sklearn.preprocessing import StandardScaler\n",
    "from tensorflow.keras.models import load_model\n",
    "import matplotlib.pyplot as plt"
   ]
  },
  {
   "cell_type": "markdown",
   "metadata": {},
   "source": [
    "## Cargamos datos de prueba y modelos entrenados "
   ]
  },
  {
   "cell_type": "code",
   "execution_count": 2,
   "metadata": {},
   "outputs": [
    {
     "name": "stderr",
     "output_type": "stream",
     "text": [
      "2024-05-05 20:56:49.988162: I external/local_xla/xla/stream_executor/cuda/cuda_executor.cc:984] could not open file to read NUMA node: /sys/bus/pci/devices/0000:01:00.0/numa_node\n",
      "Your kernel may have been built without NUMA support.\n",
      "2024-05-05 20:56:49.988377: W tensorflow/core/common_runtime/gpu/gpu_device.cc:2251] Cannot dlopen some GPU libraries. Please make sure the missing libraries mentioned above are installed properly if you would like to use GPU. Follow the guide at https://www.tensorflow.org/install/gpu for how to download and setup the required libraries for your platform.\n",
      "Skipping registering GPU devices...\n"
     ]
    }
   ],
   "source": [
    "df_clean = clean_ds(pd.read_csv('data/aapl_5m_test.csv')).dropna()\n",
    "model_buy = load_model(\"transf/model_buy.keras\")\n",
    "model_sell = load_model(\"transf/model_sell.keras\")"
   ]
  },
  {
   "cell_type": "markdown",
   "metadata": {},
   "source": [
    "## Indicadores usados "
   ]
  },
  {
   "cell_type": "code",
   "execution_count": 3,
   "metadata": {},
   "outputs": [],
   "source": [
    "closes = df_clean[[\n",
    "    'Close', 'X_t-1', 'X_t-2', 'X_t-3', 'X_t-4', 'X_t-5',\n",
    "    'RSI_5', 'RSI_10', 'RSI_15', 'RSI_28', 'RSI_32',\n",
    "    'EMA_5', 'EMA_10', 'EMA_15', 'EMA_28', 'EMA_32',\n",
    "    'MACD_line_12_26_9', 'MACD_signal_12_26_9', 'MACD_diff_12_26_9',\n",
    "    'MACD_line_5_35_5', 'MACD_signal_5_35_5', 'MACD_diff_5_35_5',\n",
    "    'MACD_line_7_14_3', 'MACD_signal_7_14_3', 'MACD_diff_7_14_3',\n",
    "    'Bollinger_mavg_20', 'Bollinger_hband_20', 'Bollinger_lband_20',\n",
    "    'Bollinger_mavg_10', 'Bollinger_hband_10', 'Bollinger_lband_10',\n",
    "    'Bollinger_mavg_30', 'Bollinger_hband_30', 'Bollinger_lband_30',\n",
    "    'Stoch_%K_14', 'Stoch_%D_14',\n",
    "    'Stoch_%K_10', 'Stoch_%D_10',\n",
    "    'Stoch_%K_20', 'Stoch_%D_20',\n",
    "    'ATR_14', 'ATR_10', 'ATR_20',\n",
    "    'CCI_10', 'CCI_20', 'CCI_40',  # CCI with different windows\n",
    "    'SAR_0.02_0.2', 'SAR_0.01_0.1', 'SAR_0.03_0.3',  # Parabolic SAR with different step/max_step\n",
    "    'Ichimoku_A_9_26_52', 'Ichimoku_B_9_26_52',  # Ichimoku Cloud with one setting\n",
    "    'Ichimoku_A_7_22_44', 'Ichimoku_B_7_22_44',  # Another setting\n",
    "    'Ichimoku_A_12_30_60', 'Ichimoku_B_12_30_60',  # And another setting  \n",
    "    'MFI_10', 'MFI_14', 'MFI_20',  # Money Flow Index with different windows\n",
    "    'CMF_10', 'CMF_20', 'CMF_30',  # Chaikin Money Flow with different windows\n",
    "    'Williams_7', 'Williams_14', 'Williams_28',\n",
    "    'Ultimate_Osc_7_14_28', 'Ultimate_Osc_5_10_20', 'Ultimate_Osc_10_20_30',\n",
    "    'TRIX_15', 'TRIX_30', 'TRIX_45',\n",
    "    'Keltner_Center_20', 'Keltner_High_20', 'Keltner_Low_20',\n",
    "    'Keltner_Center_10', 'Keltner_High_10', 'Keltner_Low_10',\n",
    "    'Keltner_Center_40', 'Keltner_High_40', 'Keltner_Low_40',\n",
    "    'ROC_10', 'ROC_20', 'ROC_30',\n",
    "]]\n",
    "scaler = StandardScaler()\n",
    "closes_scaled = (scaler.fit_transform(closes))\n",
    "features = closes.shape[1]\n",
    "X = closes_scaled.reshape(-1, features, 1)"
   ]
  },
  {
   "cell_type": "code",
   "execution_count": 4,
   "metadata": {},
   "outputs": [],
   "source": [
    "closes_5 = df_clean[['Timestamp', 'Close']]"
   ]
  },
  {
   "cell_type": "markdown",
   "metadata": {},
   "source": [
    "## Generamos señales de venta y Compra "
   ]
  },
  {
   "cell_type": "code",
   "execution_count": 5,
   "metadata": {},
   "outputs": [
    {
     "name": "stdout",
     "output_type": "stream",
     "text": [
      "\u001b[1m188/188\u001b[0m \u001b[32m━━━━━━━━━━━━━━━━━━━━\u001b[0m\u001b[37m\u001b[0m \u001b[1m6s\u001b[0m 29ms/step\n"
     ]
    },
    {
     "name": "stderr",
     "output_type": "stream",
     "text": [
      "/tmp/ipykernel_377310/1196136457.py:1: SettingWithCopyWarning: \n",
      "A value is trying to be set on a copy of a slice from a DataFrame.\n",
      "Try using .loc[row_indexer,col_indexer] = value instead\n",
      "\n",
      "See the caveats in the documentation: https://pandas.pydata.org/pandas-docs/stable/user_guide/indexing.html#returning-a-view-versus-a-copy\n",
      "  closes_5[\"Y_buy\"] = model_buy.predict(X) > 0.5\n"
     ]
    },
    {
     "name": "stdout",
     "output_type": "stream",
     "text": [
      "\u001b[1m188/188\u001b[0m \u001b[32m━━━━━━━━━━━━━━━━━━━━\u001b[0m\u001b[37m\u001b[0m \u001b[1m5s\u001b[0m 28ms/step\n"
     ]
    },
    {
     "name": "stderr",
     "output_type": "stream",
     "text": [
      "/tmp/ipykernel_377310/1196136457.py:2: SettingWithCopyWarning: \n",
      "A value is trying to be set on a copy of a slice from a DataFrame.\n",
      "Try using .loc[row_indexer,col_indexer] = value instead\n",
      "\n",
      "See the caveats in the documentation: https://pandas.pydata.org/pandas-docs/stable/user_guide/indexing.html#returning-a-view-versus-a-copy\n",
      "  closes_5[\"Y_sell\"] = model_sell.predict(X) > 0.5\n"
     ]
    }
   ],
   "source": [
    "closes_5[\"Y_buy\"] = model_buy.predict(X) > 0.5\n",
    "closes_5[\"Y_sell\"] = model_sell.predict(X) > 0.5"
   ]
  },
  {
   "cell_type": "code",
   "execution_count": 6,
   "metadata": {},
   "outputs": [
    {
     "data": {
      "text/html": [
       "<div>\n",
       "<style scoped>\n",
       "    .dataframe tbody tr th:only-of-type {\n",
       "        vertical-align: middle;\n",
       "    }\n",
       "\n",
       "    .dataframe tbody tr th {\n",
       "        vertical-align: top;\n",
       "    }\n",
       "\n",
       "    .dataframe thead th {\n",
       "        text-align: right;\n",
       "    }\n",
       "</style>\n",
       "<table border=\"1\" class=\"dataframe\">\n",
       "  <thead>\n",
       "    <tr style=\"text-align: right;\">\n",
       "      <th></th>\n",
       "      <th>Timestamp</th>\n",
       "      <th>Close</th>\n",
       "      <th>Y_buy</th>\n",
       "      <th>Y_sell</th>\n",
       "    </tr>\n",
       "  </thead>\n",
       "  <tbody>\n",
       "    <tr>\n",
       "      <th>133</th>\n",
       "      <td>1672858800</td>\n",
       "      <td>126.769996</td>\n",
       "      <td>True</td>\n",
       "      <td>False</td>\n",
       "    </tr>\n",
       "    <tr>\n",
       "      <th>134</th>\n",
       "      <td>1672859100</td>\n",
       "      <td>126.589996</td>\n",
       "      <td>True</td>\n",
       "      <td>False</td>\n",
       "    </tr>\n",
       "    <tr>\n",
       "      <th>135</th>\n",
       "      <td>1672859400</td>\n",
       "      <td>126.720001</td>\n",
       "      <td>True</td>\n",
       "      <td>False</td>\n",
       "    </tr>\n",
       "    <tr>\n",
       "      <th>136</th>\n",
       "      <td>1672859700</td>\n",
       "      <td>127.080001</td>\n",
       "      <td>True</td>\n",
       "      <td>False</td>\n",
       "    </tr>\n",
       "    <tr>\n",
       "      <th>137</th>\n",
       "      <td>1672860000</td>\n",
       "      <td>126.529998</td>\n",
       "      <td>True</td>\n",
       "      <td>False</td>\n",
       "    </tr>\n",
       "    <tr>\n",
       "      <th>...</th>\n",
       "      <td>...</td>\n",
       "      <td>...</td>\n",
       "      <td>...</td>\n",
       "      <td>...</td>\n",
       "    </tr>\n",
       "    <tr>\n",
       "      <th>9829</th>\n",
       "      <td>1688400900</td>\n",
       "      <td>192.210006</td>\n",
       "      <td>False</td>\n",
       "      <td>True</td>\n",
       "    </tr>\n",
       "    <tr>\n",
       "      <th>9830</th>\n",
       "      <td>1688401200</td>\n",
       "      <td>192.119995</td>\n",
       "      <td>False</td>\n",
       "      <td>True</td>\n",
       "    </tr>\n",
       "    <tr>\n",
       "      <th>9833</th>\n",
       "      <td>1688402100</td>\n",
       "      <td>192.100006</td>\n",
       "      <td>False</td>\n",
       "      <td>True</td>\n",
       "    </tr>\n",
       "    <tr>\n",
       "      <th>9834</th>\n",
       "      <td>1688402400</td>\n",
       "      <td>192.225494</td>\n",
       "      <td>False</td>\n",
       "      <td>True</td>\n",
       "    </tr>\n",
       "    <tr>\n",
       "      <th>9835</th>\n",
       "      <td>1688402700</td>\n",
       "      <td>192.250000</td>\n",
       "      <td>False</td>\n",
       "      <td>True</td>\n",
       "    </tr>\n",
       "  </tbody>\n",
       "</table>\n",
       "<p>6011 rows × 4 columns</p>\n",
       "</div>"
      ],
      "text/plain": [
       "       Timestamp       Close  Y_buy  Y_sell\n",
       "133   1672858800  126.769996   True   False\n",
       "134   1672859100  126.589996   True   False\n",
       "135   1672859400  126.720001   True   False\n",
       "136   1672859700  127.080001   True   False\n",
       "137   1672860000  126.529998   True   False\n",
       "...          ...         ...    ...     ...\n",
       "9829  1688400900  192.210006  False    True\n",
       "9830  1688401200  192.119995  False    True\n",
       "9833  1688402100  192.100006  False    True\n",
       "9834  1688402400  192.225494  False    True\n",
       "9835  1688402700  192.250000  False    True\n",
       "\n",
       "[6011 rows x 4 columns]"
      ]
     },
     "execution_count": 6,
     "metadata": {},
     "output_type": "execute_result"
    }
   ],
   "source": [
    "closes_5"
   ]
  },
  {
   "cell_type": "markdown",
   "metadata": {},
   "source": [
    "## Corremos estrategia de Trading"
   ]
  },
  {
   "cell_type": "code",
   "execution_count": 8,
   "metadata": {},
   "outputs": [
    {
     "data": {
      "image/png": "[encoded data removed]",
      "text/plain": [
       "<Figure size 1200x600 with 1 Axes>"
      ]
     },
     "metadata": {},
     "output_type": "display_data"
    },
    {
     "name": "stdout",
     "output_type": "stream",
     "text": [
      "Valor de la estrategia:  1831709.3941449046\n"
     ]
    }
   ],
   "source": [
    "cash = 1_000_000\n",
    "active_operations = []\n",
    "com = 0.00125  # comision en GBM\n",
    "strategy_value = [1_000_000]\n",
    "stop_loss = 0.03451137396108058\n",
    "take_profit = 0.007335240907359543\n",
    "n_shares = 9\n",
    "\n",
    "class Operation:\n",
    "    def __init__(self, operation_type, bought_at, timestamp, n_shares, stop_loss, take_profit):\n",
    "        self.operation_type = operation_type\n",
    "        self.bought_at = bought_at\n",
    "        self.timestamp = timestamp\n",
    "        self.n_shares = n_shares\n",
    "        # self.sold_at = None\n",
    "        self.stop_loss = stop_loss\n",
    "        self.take_profit = take_profit\n",
    "\n",
    "for i, row in closes_5.iterrows():\n",
    "    # Close Operations\n",
    "    temp_operations = []\n",
    "    for op in active_operations:\n",
    "        if op.operation_type == 'Long':\n",
    "            if op.stop_loss > row.Close:\n",
    "                cash += row.Close * op.n_shares * (1 - com)\n",
    "            elif op.take_profit < row.Close:\n",
    "                cash += row.Close * op.n_shares * (1 - com)\n",
    "            else:\n",
    "                temp_operations.append(op)\n",
    "        elif op.operation_type == 'Short':\n",
    "            if op.stop_loss < row.Close:\n",
    "                cash -= row.Close * op.n_shares * (1 + com)\n",
    "            elif op.take_profit > row.Close:\n",
    "                cash -= row.Close * op.n_shares * (1 + com)\n",
    "            else:\n",
    "                temp_operations.append(op)\n",
    "    active_operations = temp_operations\n",
    "\n",
    "    # Open Operations\n",
    "    if row.Y_buy:\n",
    "        n_shares = n_shares\n",
    "        stop_loss = row.Close * (1 - stop_loss)\n",
    "        take_profit = row.Close * (1 + take_profit)\n",
    "        active_operations.append(\n",
    "            Operation('Long', row.Close, row.Timestamp, n_shares, stop_loss, take_profit))\n",
    "        cash -= row.Close * n_shares * (1 + com)\n",
    "    elif row.Y_sell:\n",
    "        n_shares = n_shares\n",
    "        stop_loss = row.Close * (1 + stop_loss)\n",
    "        take_profit = row.Close * (1 - take_profit)\n",
    "        active_operations.append(\n",
    "            Operation('Short', row.Close, row.Timestamp, n_shares, stop_loss, take_profit))\n",
    "        cash += row.Close * n_shares * (1 - com)\n",
    "\n",
    "    total_value = len(active_operations) * row.Close \n",
    "    strategy_value.append(cash + total_value)\n",
    "    \n",
    "plt.figure(figsize=(12, 6))\n",
    "plt.plot(strategy_value)\n",
    "plt.title('Valor de la estrategia')\n",
    "plt.xlabel('Período')\n",
    "plt.ylabel('Valor')\n",
    "plt.show()\n",
    "print(\"Valor de la estrategia: \", strategy_value[-1])"
   ]
  }
 ],
 "metadata": {
  "kernelspec": {
   "display_name": ".venv",
   "language": "python",
   "name": "python3"
  },
  "language_info": {
   "codemirror_mode": {
    "name": "ipython",
    "version": 3
   },
   "file_extension": ".py",
   "mimetype": "text/x-python",
   "name": "python",
   "nbconvert_exporter": "python",
   "pygments_lexer": "ipython3",
   "version": "3.11.8"
  }
 },
 "nbformat": 4,
 "nbformat_minor": 2
}
